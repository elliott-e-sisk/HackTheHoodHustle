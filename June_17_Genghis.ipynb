{
  "nbformat": 4,
  "nbformat_minor": 0,
  "metadata": {
    "colab": {
      "provenance": [],
      "authorship_tag": "ABX9TyMv/TOghcan0QN7/q7RVG6x",
      "include_colab_link": true
    },
    "kernelspec": {
      "name": "python3",
      "display_name": "Python 3"
    },
    "language_info": {
      "name": "python"
    }
  },
  "cells": [
    {
      "cell_type": "markdown",
      "metadata": {
        "id": "view-in-github",
        "colab_type": "text"
      },
      "source": [
        "<a href=\"https://colab.research.google.com/github/elliott-e-sisk/HackTheHoodHustle/blob/main/June_17_Genghis.ipynb\" target=\"_parent\"><img src=\"https://colab.research.google.com/assets/colab-badge.svg\" alt=\"Open In Colab\"/></a>"
      ]
    },
    {
      "cell_type": "markdown",
      "source": [
        "#Lab June 17th"
      ],
      "metadata": {
        "id": "Mof6Mj9jwHEd"
      }
    },
    {
      "cell_type": "markdown",
      "source": [
        "Intro to Pseudocode"
      ],
      "metadata": {
        "id": "1JftjJ2zzJQR"
      }
    },
    {
      "cell_type": "markdown",
      "source": [
        "### Psuedo code for my application\n",
        "I want to write a program that takes user input and prints it back to the screen.\n",
        "\n",
        "`First_name` the user's first name\n",
        "\n",
        "`Last_Name` the user's last name\n",
        "\n",
        "`Age` the user's age\n",
        "\n",
        "`Fav_Colour` the user's favourite colour\n",
        "\n",
        "`Fav_Sport` the user's favourite sport\n",
        "\n",
        "`Fav_Team` the user's favourite team\n",
        "\n",
        "use a 'built-in' process to take user's data.\n",
        "\n",
        "use a 'built-in' process to display user's data.\n",
        "\n",
        "\n",
        "\n"
      ],
      "metadata": {
        "id": "ydAe0hWrx7IU"
      }
    },
    {
      "cell_type": "code",
      "source": [
        "#program to take user data and display the info in a simple way\n",
        "\n",
        "first_name= \"Elliott\"\n",
        "#first_name is a variable to represent the user's first name\n",
        "\n",
        "last_name= \"Sisk\"\n",
        "#last_name is a variable to represent the user's last name\n",
        "\n",
        "age= 26\n",
        "#age is a variable to represent the user's age\n",
        "\n",
        "fav_color= \"blue\"\n",
        "#fav_color is a variable to represent the user's favorite color\n",
        "\n",
        "fav_sport= \"basketball\"\n",
        "#fav_sport is a variable to represent the user's favorite sport\n",
        "\n",
        "fav_team= \"Warriors\"\n",
        "#fav_team is a variable to represent the user's favorite sports team\n",
        "\n",
        "print(f\"User's first name is {first_name}\")\n",
        "#this is to display the user's first name within a simple phrase\n",
        "\n",
        "print(f\"User's last name is {last_name}\")\n",
        "#this is to display the user's last name within a simple phrase\n",
        "\n",
        "print(f\"User's age is {age}\")\n",
        "#this is to display the user's age within a simple phrase\n",
        "\n",
        "print(f\"User's favorite color is {fav_color}\")\n",
        "#this is to display the user's favorite color within a simple phrase\n",
        "\n",
        "print(f\"User's favorite sport is {fav_sport}\")\n",
        "#this is to display the user's favorite sport within a simple phrase\n",
        "\n",
        "print(f\"User's favorite team is the {fav_team}\")\n",
        "#this is to display the user's favorite sports team within a simple phrase"
      ],
      "metadata": {
        "colab": {
          "base_uri": "https://localhost:8080/"
        },
        "id": "rp87Je2D25CV",
        "outputId": "62fba880-e4ea-45a4-fec7-01158f025e01"
      },
      "execution_count": 5,
      "outputs": [
        {
          "output_type": "stream",
          "name": "stdout",
          "text": [
            "User's first name is Elliott\n",
            "User's last name is Sisk\n",
            "User's age is 26\n",
            "User's favorite color is blue\n",
            "User's favorite sport is basketball\n",
            "User's favorite team is the Warriors\n"
          ]
        }
      ]
    }
  ]
}