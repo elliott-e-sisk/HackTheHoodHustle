{
  "nbformat": 4,
  "nbformat_minor": 0,
  "metadata": {
    "colab": {
      "provenance": [],
      "authorship_tag": "ABX9TyN2WV4BFOSRDieea7R95bWS",
      "include_colab_link": true
    },
    "kernelspec": {
      "name": "python3",
      "display_name": "Python 3"
    },
    "language_info": {
      "name": "python"
    }
  },
  "cells": [
    {
      "cell_type": "markdown",
      "metadata": {
        "id": "view-in-github",
        "colab_type": "text"
      },
      "source": [
        "<a href=\"https://colab.research.google.com/github/elliott-e-sisk/HackTheHoodHustle/blob/main/week_8_review.ipynb\" target=\"_parent\"><img src=\"https://colab.research.google.com/assets/colab-badge.svg\" alt=\"Open In Colab\"/></a>"
      ]
    },
    {
      "cell_type": "code",
      "execution_count": 12,
      "metadata": {
        "colab": {
          "base_uri": "https://localhost:8080/"
        },
        "collapsed": true,
        "id": "sYHc6QMHnk1Y",
        "outputId": "9b3d1ff0-ff56-47a3-a71e-097128985146"
      },
      "outputs": [
        {
          "output_type": "stream",
          "name": "stdout",
          "text": [
            "John has the power of super strength\n"
          ]
        }
      ],
      "source": [
        "#def generate_superhero_power():\n",
        "    # Define a user name and superhero power\n",
        "\n",
        "\n",
        "    # Combine the user's name with the given superhero power\n",
        "\n",
        "    # Print the result\n",
        "\n",
        "# Example usage\n",
        "# Call the function\n",
        "\n",
        "class Hero:\n",
        "  def __init__(self, name, power):\n",
        "    self.name = name\n",
        "    self.power = power\n",
        "\n",
        "  def generate_superhero_power(self):\n",
        "    result = f\"{self.name} has the power of {self.power}\"\n",
        "    print(result)\n",
        "\n",
        "hero = Hero(\"John\", \"super strength\")\n",
        "hero.generate_superhero_power()\n",
        "\n",
        "\n",
        "\n",
        "\n"
      ]
    },
    {
      "cell_type": "code",
      "source": [
        "#hint use ()\n",
        "# Define functioon w/ arguments name + power\n",
        "  # Combine the user's name with the given superhero power\n",
        "  # Return the result\n",
        "\n",
        "# Example usage\n",
        "# Call the function with arguments and print the result\n",
        "\n",
        "def generate_superhero_power(name, power):\n",
        "  hero = (f\"{name} has the power of {power}\")\n",
        "  return hero\n",
        "\n",
        "print(generate_superhero_power(\"Jim\", \"strength\"))"
      ],
      "metadata": {
        "colab": {
          "base_uri": "https://localhost:8080/"
        },
        "id": "yxxJDvOcov88",
        "outputId": "7b122312-8090-4cde-acd7-b94ce40a2a2c"
      },
      "execution_count": 32,
      "outputs": [
        {
          "output_type": "stream",
          "name": "stdout",
          "text": [
            "Jim has the power of strength\n"
          ]
        }
      ]
    },
    {
      "cell_type": "code",
      "source": [
        "def generate_superhero_power():\n",
        "  name = input(f\"What is your hero's name? \")\n",
        "  power = input(f\"What is your hero's power? \")\n",
        "  hero = (f\"{name} has the power of {power}\")\n",
        "  return hero\n",
        "\n",
        "\n",
        "print(generate_superhero_power())"
      ],
      "metadata": {
        "colab": {
          "base_uri": "https://localhost:8080/"
        },
        "id": "ZvXKAWe8xYUL",
        "outputId": "87995ce2-62f1-46df-e7b8-594c3006aed2"
      },
      "execution_count": 34,
      "outputs": [
        {
          "output_type": "stream",
          "name": "stdout",
          "text": [
            "What is your hero's name? Jay\n",
            "What is your hero's power? flight\n",
            "Jay has the power of flight\n"
          ]
        }
      ]
    },
    {
      "cell_type": "code",
      "source": [
        "# Define a class named Cat\n",
        "\n",
        "class Cat:\n",
        "  # The __init__ method initializes the object (it's the start)\n",
        "  def __init__(self, name, age):\n",
        "    self.name = name # Set the cat's name\n",
        "    self.age = age    # Set the cat's age\n",
        "\n",
        "  # Method to make the cat \"meow\"\n",
        "  def meow(self):\n",
        "    print(f\"{self.name} says 'Meow!'\")  # Print the meow message\n",
        "\n",
        "# Print the name of the cat\n",
        "# first, create an object instanct of the class Cat\n",
        "cat1 = Cat('Whiskers', 3)\n",
        "#I can now access all the attributse (name, age) of cat1 aka whiskers\n",
        "print(cat1.name, cat1.age)\n",
        "cat1.meow()\n",
        "\n",
        "# Add more cats\n",
        "\n",
        "\n",
        "#make a new statement saying good bye to the cat"
      ],
      "metadata": {
        "id": "OEXhfz8mx_ip"
      },
      "execution_count": null,
      "outputs": []
    }
  ]
}