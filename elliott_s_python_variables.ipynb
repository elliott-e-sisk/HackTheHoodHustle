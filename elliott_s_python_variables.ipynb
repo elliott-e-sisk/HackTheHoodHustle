{
  "nbformat": 4,
  "nbformat_minor": 0,
  "metadata": {
    "colab": {
      "provenance": [],
      "include_colab_link": true
    },
    "kernelspec": {
      "name": "python3",
      "display_name": "Python 3"
    },
    "language_info": {
      "name": "python"
    }
  },
  "cells": [
    {
      "cell_type": "markdown",
      "metadata": {
        "id": "view-in-github",
        "colab_type": "text"
      },
      "source": [
        "<a href=\"https://colab.research.google.com/github/elliott-e-sisk/HackTheHoodHustle/blob/main/elliott_s_python_variables.ipynb\" target=\"_parent\"><img src=\"https://colab.research.google.com/assets/colab-badge.svg\" alt=\"Open In Colab\"/></a>"
      ]
    },
    {
      "cell_type": "code",
      "execution_count": 13,
      "metadata": {
        "colab": {
          "base_uri": "https://localhost:8080/"
        },
        "id": "46l53Aisb7y7",
        "outputId": "0123c5e4-7ace-427b-88d9-bbab28d5bbb6"
      },
      "outputs": [
        {
          "output_type": "stream",
          "name": "stdout",
          "text": [
            "My full name is Elliott Sisk\n",
            "My age is 26\n",
            "['basketball', 'movies', 'driving']\n",
            "elliott.elijah.sisk@gmail.com\n",
            "My email is elliott.elijah.sisk@gmail.com\n",
            "My username is  esisk97\n",
            "Welcome Elliott Sisk let's start coding\n"
          ]
        }
      ],
      "source": [
        "## To do lab: File > Save a copy to drive > Edit title\n",
        "\n",
        "### EXERCISE 1\n",
        "\n",
        "# Step 1: Create a Variable for Your Name\n",
        "# In your main.py file, create a variable and assign it a string\n",
        "#value that holds your first and last name.\n",
        "\n",
        "full_name = \"Elliott Sisk\"\n",
        "\n",
        "# Step 2: Create a Nickname Variable\n",
        "# Create another variable that holds your favorite nickname or preferred name.\n",
        "\n",
        "nickname = \"E\"\n",
        "\n",
        "# Step 3: Define Your Age\n",
        "# Create a variable that represents your age using a numeric data type.\n",
        "\n",
        "age =26\n",
        "\n",
        "# Step 4: Have You Used Python Before?\n",
        "# Create a variable using the boolean data type to answer the question:\n",
        "# \"Have you used Python before?\"\n",
        "# Use True for \"yes\" or False for \"no.\"\n",
        "\n",
        "used_python_before = False\n",
        "\n",
        "# Step 5: List Your Favorite Hobbies\n",
        "# Create a variable that is a list containing your favorite hobbies.\n",
        "# eg: hobbies = [\"coding\", \"basketball\", \"reading\"]\n",
        "# Make sure to type it out, do not copy and paste\n",
        "\n",
        "hobbies = [\"basketball\", \"movies\", \"driving\"]\n",
        "\n",
        "## Complete Print Statements:\n",
        "\n",
        "\n",
        "# Print the nickname, age, and used_python_before variables\n",
        "# eg: print(\"Full Name\":, full_name)\n",
        "\n",
        "print(\"My full name is\", full_name)\n",
        "print(\"My age is\", age)\n",
        "\n",
        "# Print hobbies list\n",
        "\n",
        "print(hobbies)\n",
        "\n",
        "\n",
        "\n",
        "#------------------------------------------------------------------------------#\n",
        "\n",
        "\n",
        "### EXERCISE 2\n",
        "\n",
        "# Let's pretend we are signing up for a program.\n",
        "# We need to assign the following values, and then welcome our new user.\n",
        "\n",
        "# Assign your full name\n",
        "full_name= \"Elliott Sisk\"\n",
        "\n",
        "# Assign your email address\n",
        "email= \"elliott.elijah.sisk@gmail.com\"\n",
        "\n",
        "# Assign your desired username\n",
        "username= \"esisk97\"\n",
        "\n",
        "# Print yor email\n",
        "print(email)\n",
        "\n",
        "# print(\"Your email is: \" + email)\n",
        "print(\"My email is\",email)\n",
        "\n",
        "### Now you try!\n",
        "\n",
        "# Print a statement that will complete this message:\n",
        "# \"Your username is ____ \"\n",
        "print(\"My username is \",username)\n",
        "\n",
        "### Print a welcome message:\n",
        "# \"Welcome [insert full name here], let's start coding!\"\n",
        "\n",
        "print(\"Welcome\",full_name,\"let's start coding\")\n"
      ]
    },
    {
      "cell_type": "code",
      "source": [],
      "metadata": {
        "id": "DlXZ7DbgeaB5"
      },
      "execution_count": null,
      "outputs": []
    }
  ]
}