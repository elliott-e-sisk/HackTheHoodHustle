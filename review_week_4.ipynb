{
  "nbformat": 4,
  "nbformat_minor": 0,
  "metadata": {
    "colab": {
      "provenance": [],
      "authorship_tag": "ABX9TyN/7OIOwcyIM8lHJ8RW2Juf",
      "include_colab_link": true
    },
    "kernelspec": {
      "name": "python3",
      "display_name": "Python 3"
    },
    "language_info": {
      "name": "python"
    }
  },
  "cells": [
    {
      "cell_type": "markdown",
      "metadata": {
        "id": "view-in-github",
        "colab_type": "text"
      },
      "source": [
        "<a href=\"https://colab.research.google.com/github/elliott-e-sisk/HackTheHoodHustle/blob/main/review_week_4.ipynb\" target=\"_parent\"><img src=\"https://colab.research.google.com/assets/colab-badge.svg\" alt=\"Open In Colab\"/></a>"
      ]
    },
    {
      "cell_type": "markdown",
      "source": [
        "#Inputs"
      ],
      "metadata": {
        "id": "uPavJ1moUPfn"
      }
    },
    {
      "cell_type": "code",
      "source": [
        "# Step 1: Get the user's name as input\n",
        "\n",
        "user_name = input(\"What is your name? \")\n",
        "\n",
        "\n",
        "print(f\"Hello {user_name}, welcome!\")\n",
        "\n",
        "\n",
        "\n",
        "\n",
        "# Step 2: ask age and convert to int\n",
        "\n",
        "user_age = int(input(f\"Hello again {user_name}, how old are you? \"))\n",
        "\n",
        "# Step 3: Calculate user age in 5 years\n",
        "\n",
        "age_in_five = user_age + 5\n",
        "\n",
        "# Step 4: f str that calls age and future name\n",
        "\n",
        "print(f\"In five years, you will be {age_in_five}, {user_name} \")\n",
        "\n",
        "\n",
        "\n"
      ],
      "metadata": {
        "colab": {
          "base_uri": "https://localhost:8080/"
        },
        "id": "-BMxUoNhUZ6z",
        "outputId": "e6c36899-adba-426d-ac51-f78ebb93976f"
      },
      "execution_count": null,
      "outputs": [
        {
          "output_type": "stream",
          "name": "stdout",
          "text": [
            "What is your name? Yo\n",
            "Hello Yo, welcome!\n",
            "Hello again Yo, how old are you? 78\n",
            "In five years, you will be 83, Yo \n"
          ]
        }
      ]
    },
    {
      "cell_type": "markdown",
      "source": [
        "# Conditionals"
      ],
      "metadata": {
        "id": "dOhINtShgmrb"
      }
    },
    {
      "cell_type": "code",
      "source": [
        "# Step 1: if and else\n",
        "\n",
        "age=int(input(\"What is your age? Please answer only in whole numbers. \"))\n",
        "\n",
        "future_age = age + 2\n",
        "\n",
        "if age >= 18:\n",
        "  print(\"You are an adult.\")\n",
        "  elif: future_age>=18\n",
        "  print(\"you can vote in 2 years.\")\n",
        "else:\n",
        "  print(\"You are not an adult.\")\n",
        "\n",
        "\n"
      ],
      "metadata": {
        "id": "hINC5drig4rZ"
      },
      "execution_count": null,
      "outputs": []
    },
    {
      "cell_type": "markdown",
      "source": [
        "# Membership Operator"
      ],
      "metadata": {
        "id": "CiiV5yOLj8J0"
      }
    },
    {
      "cell_type": "code",
      "source": [
        "# Checking Membership\n",
        "\n",
        "buy_fruit = input('What fruit would you like to buy? ')\n",
        "\n",
        "fruits = [\"apple\", \"banana\", \"orange\", \"grape\", \"pineapple\"]\n",
        "\n",
        "if buy_fruit.lower in fruits:\n",
        "  print(f\"We have that in stock.\")\n",
        "else:\n",
        "  print(f\"{buy_fruit.capitalize()} is not in the list of fruits.\")"
      ],
      "metadata": {
        "colab": {
          "base_uri": "https://localhost:8080/",
          "height": 452
        },
        "id": "vXTeiDwSkAp6",
        "outputId": "ffa2a4a5-717e-4e49-b98f-6818c7786cf5"
      },
      "execution_count": 13,
      "outputs": [
        {
          "output_type": "error",
          "ename": "KeyboardInterrupt",
          "evalue": "Interrupted by user",
          "traceback": [
            "\u001b[0;31m---------------------------------------------------------------------------\u001b[0m",
            "\u001b[0;31mKeyboardInterrupt\u001b[0m                         Traceback (most recent call last)",
            "\u001b[0;32m<ipython-input-13-b3c5432de743>\u001b[0m in \u001b[0;36m<cell line: 3>\u001b[0;34m()\u001b[0m\n\u001b[1;32m      1\u001b[0m \u001b[0;31m# Checking Membership\u001b[0m\u001b[0;34m\u001b[0m\u001b[0;34m\u001b[0m\u001b[0m\n\u001b[1;32m      2\u001b[0m \u001b[0;34m\u001b[0m\u001b[0m\n\u001b[0;32m----> 3\u001b[0;31m \u001b[0mbuy_fruit\u001b[0m \u001b[0;34m=\u001b[0m \u001b[0minput\u001b[0m\u001b[0;34m(\u001b[0m\u001b[0;34m'What fruit would you like to buy? '\u001b[0m\u001b[0;34m)\u001b[0m\u001b[0;34m\u001b[0m\u001b[0;34m\u001b[0m\u001b[0m\n\u001b[0m\u001b[1;32m      4\u001b[0m \u001b[0;34m\u001b[0m\u001b[0m\n\u001b[1;32m      5\u001b[0m \u001b[0mfruits\u001b[0m \u001b[0;34m=\u001b[0m \u001b[0;34m[\u001b[0m\u001b[0;34m\"apple\"\u001b[0m\u001b[0;34m,\u001b[0m \u001b[0;34m\"banana\"\u001b[0m\u001b[0;34m,\u001b[0m \u001b[0;34m\"orange\"\u001b[0m\u001b[0;34m,\u001b[0m \u001b[0;34m\"grape\"\u001b[0m\u001b[0;34m,\u001b[0m \u001b[0;34m\"pineapple\"\u001b[0m\u001b[0;34m]\u001b[0m\u001b[0;34m\u001b[0m\u001b[0;34m\u001b[0m\u001b[0m\n",
            "\u001b[0;32m/usr/local/lib/python3.10/dist-packages/ipykernel/kernelbase.py\u001b[0m in \u001b[0;36mraw_input\u001b[0;34m(self, prompt)\u001b[0m\n\u001b[1;32m    849\u001b[0m                 \u001b[0;34m\"raw_input was called, but this frontend does not support input requests.\"\u001b[0m\u001b[0;34m\u001b[0m\u001b[0;34m\u001b[0m\u001b[0m\n\u001b[1;32m    850\u001b[0m             )\n\u001b[0;32m--> 851\u001b[0;31m         return self._input_request(str(prompt),\n\u001b[0m\u001b[1;32m    852\u001b[0m             \u001b[0mself\u001b[0m\u001b[0;34m.\u001b[0m\u001b[0m_parent_ident\u001b[0m\u001b[0;34m,\u001b[0m\u001b[0;34m\u001b[0m\u001b[0;34m\u001b[0m\u001b[0m\n\u001b[1;32m    853\u001b[0m             \u001b[0mself\u001b[0m\u001b[0;34m.\u001b[0m\u001b[0m_parent_header\u001b[0m\u001b[0;34m,\u001b[0m\u001b[0;34m\u001b[0m\u001b[0;34m\u001b[0m\u001b[0m\n",
            "\u001b[0;32m/usr/local/lib/python3.10/dist-packages/ipykernel/kernelbase.py\u001b[0m in \u001b[0;36m_input_request\u001b[0;34m(self, prompt, ident, parent, password)\u001b[0m\n\u001b[1;32m    893\u001b[0m             \u001b[0;32mexcept\u001b[0m \u001b[0mKeyboardInterrupt\u001b[0m\u001b[0;34m:\u001b[0m\u001b[0;34m\u001b[0m\u001b[0;34m\u001b[0m\u001b[0m\n\u001b[1;32m    894\u001b[0m                 \u001b[0;31m# re-raise KeyboardInterrupt, to truncate traceback\u001b[0m\u001b[0;34m\u001b[0m\u001b[0;34m\u001b[0m\u001b[0m\n\u001b[0;32m--> 895\u001b[0;31m                 \u001b[0;32mraise\u001b[0m \u001b[0mKeyboardInterrupt\u001b[0m\u001b[0;34m(\u001b[0m\u001b[0;34m\"Interrupted by user\"\u001b[0m\u001b[0;34m)\u001b[0m \u001b[0;32mfrom\u001b[0m \u001b[0;32mNone\u001b[0m\u001b[0;34m\u001b[0m\u001b[0;34m\u001b[0m\u001b[0m\n\u001b[0m\u001b[1;32m    896\u001b[0m             \u001b[0;32mexcept\u001b[0m \u001b[0mException\u001b[0m \u001b[0;32mas\u001b[0m \u001b[0me\u001b[0m\u001b[0;34m:\u001b[0m\u001b[0;34m\u001b[0m\u001b[0;34m\u001b[0m\u001b[0m\n\u001b[1;32m    897\u001b[0m                 \u001b[0mself\u001b[0m\u001b[0;34m.\u001b[0m\u001b[0mlog\u001b[0m\u001b[0;34m.\u001b[0m\u001b[0mwarning\u001b[0m\u001b[0;34m(\u001b[0m\u001b[0;34m\"Invalid Message:\"\u001b[0m\u001b[0;34m,\u001b[0m \u001b[0mexc_info\u001b[0m\u001b[0;34m=\u001b[0m\u001b[0;32mTrue\u001b[0m\u001b[0;34m)\u001b[0m\u001b[0;34m\u001b[0m\u001b[0;34m\u001b[0m\u001b[0m\n",
            "\u001b[0;31mKeyboardInterrupt\u001b[0m: Interrupted by user"
          ]
        }
      ]
    },
    {
      "cell_type": "markdown",
      "source": [
        "# Operators"
      ],
      "metadata": {
        "id": "OioMRefLlvPF"
      }
    },
    {
      "cell_type": "code",
      "source": [
        "# Mini Step 4.0: Handling Yes or No Input with Truthy or Falsey Outcome\n",
        "# We will get a yes or no input from the user and convert it to a boolean value\n",
        "\n",
        "# Get input from the user\n",
        "response = input(\"Do you have permission from your parents? (yes/no): \")\n",
        "\n",
        "# Convert input to a boolean value\n",
        "print('boolean value for has_permission', has_permission)\n",
        "\n",
        "# if has_permission:\n",
        "if response == \"yes\":\n",
        "  print(\"you can enter the building\")\n",
        "else:\n",
        "  print(\"you can't enter the building\")\n",
        "\n",
        "  # 4.1 Using 'and' operator:\n",
        "  age = int(input(\"Please enter your age: \"))\n",
        "\n",
        "\n",
        "if age >= 18 and has_permission:\n",
        "  print(\"welcome to the club!\")\n",
        "else:\n",
        "  print(\"No, get out\")"
      ],
      "metadata": {
        "id": "XSbFQFXblxnj"
      },
      "execution_count": null,
      "outputs": []
    }
  ]
}