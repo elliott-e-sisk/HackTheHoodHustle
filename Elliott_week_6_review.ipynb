{
  "nbformat": 4,
  "nbformat_minor": 0,
  "metadata": {
    "colab": {
      "provenance": [],
      "authorship_tag": "ABX9TyNAn6J1TjjmywirZ8JkmUtr",
      "include_colab_link": true
    },
    "kernelspec": {
      "name": "python3",
      "display_name": "Python 3"
    },
    "language_info": {
      "name": "python"
    }
  },
  "cells": [
    {
      "cell_type": "markdown",
      "metadata": {
        "id": "view-in-github",
        "colab_type": "text"
      },
      "source": [
        "<a href=\"https://colab.research.google.com/github/elliott-e-sisk/HackTheHoodHustle/blob/main/Elliott_week_6_review.ipynb\" target=\"_parent\"><img src=\"https://colab.research.google.com/assets/colab-badge.svg\" alt=\"Open In Colab\"/></a>"
      ]
    },
    {
      "cell_type": "markdown",
      "source": [
        "# Iteration"
      ],
      "metadata": {
        "id": "-gooSslQaOwu"
      }
    },
    {
      "cell_type": "markdown",
      "source": [],
      "metadata": {
        "id": "Oz9xHHFoa0ph"
      }
    },
    {
      "cell_type": "code",
      "source": [
        "# press cmd + '?' key to mass comment lines\n",
        "\n",
        "# What is iteration?\n",
        "process that has repitition, like factory machinery\n",
        "\n",
        "# What is a while loop?\n",
        "While loops run as long as a condition is true\n",
        "\n",
        "# What is a for loop?\n",
        "for loops run for a KNOWN number of times\n",
        "\n",
        "\n",
        "while loop or for loop?\n",
        "\n",
        "# 1. Print out each name on a student roster\n",
        "For loop because I know the number of names on the roster, so I know\n",
        "how many times it will run\n",
        "\n",
        "# 2. Have a user guess letters until they have figured out a secret word\n",
        "For loop because I know how many letters are in the alphabet and I\n",
        "know how long the secret word is\n",
        "\n",
        "While loop because the nuber of guesses is unknown as long as users\n",
        "can guess any letter as many times as they want\n",
        "\n",
        "#3. Count from 1 to 100\n",
        "For loop bacause I know how many ints are between 1 and 100, as\n",
        "long as the user uses each number only once\n",
        "\n",
        "While loop because we are running code with a condition that must\n",
        "be true. The numbers must be between 1 and 100."
      ],
      "metadata": {
        "id": "ofsUjY8Ea80r"
      },
      "execution_count": null,
      "outputs": []
    },
    {
      "cell_type": "markdown",
      "source": [
        "# Shopping Cart!"
      ],
      "metadata": {
        "id": "l-jBexUXi70Z"
      }
    },
    {
      "cell_type": "code",
      "source": [
        "#  1. Ask a user what they need from the grocery store, save these items in a data structure.\n",
        "# shop_list = []\n",
        "# item = input('What would you like to purchase today? ')\n",
        "# shop_list.append(item)\n",
        "\n",
        "# 2 open a shop with 5 items\n",
        "# len(shop_list)\n",
        "# for i in range(5):\n",
        "#     item = input('What would you like to purchase today? ')\n",
        "#     shop_list.append(item)\n",
        "#     print(shop_list)\n",
        "\n",
        "# for i in range(5):\n",
        "#   item = input(\"What would you like to purchase today? \")\n",
        "#   grocery_list.append(item)\n",
        "#   print(grocery_list)\n",
        "\n",
        "\n",
        "# while len(grocery_list) < 5:\n",
        "#   item = input(\"What would you like to purchase today? \")\n",
        "#   grocery_list.append(item)\n",
        "#   print(grocery_list)\n",
        "\n",
        "# Data structure of grocery store items and their prices\n",
        "\n",
        "\n",
        "# grocery_store = {\n",
        "#     'apple': 0.50,\n",
        "#     'banana': 0.30,\n",
        "#     'milk': 1.20,\n",
        "#     'bread': 2.00,\n",
        "#     'eggs': 2.50\n",
        "# }\n",
        "\n",
        "grocery_store = ['apple', 'banana', 'milk', 'bread', 'eggs']\n",
        "\n",
        "# 3\n",
        "\n",
        "shop_cart= []\n",
        "\n",
        "# 4\n",
        "for item. in shop_list\n",
        "  if item in grocery_store:\n",
        "      shop_cart.append(item)\n",
        "  else print(f'{item} is not in this grocery store')\n",
        "\n",
        "print(f'You can go to checkout - your cart has {shop_cart}')\n",
        "\n",
        "\n",
        "# 5\n",
        "\n",
        "\n"
      ],
      "metadata": {
        "id": "avUWQlGZjIbs"
      },
      "execution_count": null,
      "outputs": []
    },
    {
      "cell_type": "code",
      "source": [
        "print('driving to the store!')\n",
        "\n",
        "grocery_store = ['apple', 'banana', 'milk', 'break', 'eggs']\n",
        "# 3. Create a data structure for the grocery cart.\n",
        "\n",
        "grocery_cart = []\n",
        "\n",
        "\n",
        "#4. For every item in the user's shopping list, see if the item is at the store.\n",
        "# If the item is at the store, add the item to the user's cart.\n",
        "\n",
        "\n",
        "#4a. Build a conditional statement with item grocery_store. If it item is in store,\n",
        "#what should we do? If not, what should we do?\n",
        "\n",
        "# for item in grocery_list:\n",
        "#   print(f\"{item} is in my grocery_list\")\n",
        "\n",
        "# if item in grocery_store:\n",
        "#   grocery_cart.append(item)\n",
        "# else:\n",
        "#   print('item is not at this store')\n",
        "\n",
        "for item in grocery_list:\n",
        "  if item in grocery_store:\n",
        "    grocery_cart.append(item)\n",
        "  else:\n",
        "    print(f\"{item} is not at this store\")\n",
        "\n",
        "print(f\"You can go to checkout - your cart has {grocery_cart}\")"
      ],
      "metadata": {
        "id": "37OMqofKtyEc"
      },
      "execution_count": null,
      "outputs": []
    }
  ]
}