{
  "nbformat": 4,
  "nbformat_minor": 0,
  "metadata": {
    "colab": {
      "provenance": [],
      "authorship_tag": "ABX9TyNaqFQXQhUQeksJLeoXJ6r3",
      "include_colab_link": true
    },
    "kernelspec": {
      "name": "python3",
      "display_name": "Python 3"
    },
    "language_info": {
      "name": "python"
    }
  },
  "cells": [
    {
      "cell_type": "markdown",
      "metadata": {
        "id": "view-in-github",
        "colab_type": "text"
      },
      "source": [
        "<a href=\"https://colab.research.google.com/github/elliott-e-sisk/HackTheHoodHustle/blob/main/Elliott_week_7_review.ipynb\" target=\"_parent\"><img src=\"https://colab.research.google.com/assets/colab-badge.svg\" alt=\"Open In Colab\"/></a>"
      ]
    },
    {
      "cell_type": "code",
      "execution_count": null,
      "metadata": {
        "id": "kVO4vYXscQqD"
      },
      "outputs": [],
      "source": [
        "#1 Create and print a variable that contains a name using the `input()` function\n",
        "name = input(\"Please list your first name here: \")\n",
        "print(f\"Hello, {name}! Welcome.\")\n",
        "\n",
        "#2 Create and print a variable that contains a float using the `input()` function\n",
        "bid_amount = float(input(\"Please enter the dollar amount for the bid you would like to place: \"))\n",
        "print(f\"You have placed a bid for ${bid_amount}! Please allow us 5-10 minutes to process.\")\n",
        "\n",
        "#3 Create and print a variable that contains an integer using the `input()` function\n",
        "fruits = int(input(\"How many apples would you like to purchase? \"))\n",
        "print(f\"You have purchased {fruits} apples\")\n",
        "\n",
        "#4 Create and print a variable that contains a string using the `input()` function\n",
        "last_name = print(\"Sisk\")\n",
        "\n",
        "#5 Create and print a variable that contains an integer using the `input()` function and add it to another variable\n",
        "num1 = int(input(\"Your age now: \"))\n",
        "num2 = 10\n",
        "sum = num1 + num2\n",
        "print(f\"You will be {sum} in 10 years\")\n",
        "\n",
        "#6 Using the `input()` function, create and print a statement which greets the user.\n",
        "name = input(\"Please list your first name here: \")\n",
        "print(f\"Hello, {name}! Welcome.\")"
      ]
    },
    {
      "cell_type": "markdown",
      "source": [
        "# Conditionals\n",
        "\n",
        "Statements!\n",
        "\n",
        "\n",
        "*   IF statement, when true, a condition will happen\n",
        "*   There is always a colon `:` at the end\n",
        "*   The next line of code that follows the statement is   \n",
        "      always indented\n",
        "\n",
        "Set up:\n",
        "\n",
        "if _______:\n",
        "  (your code here)\n",
        "\n",
        "\n",
        "\n",
        "elif ________:\n",
        "  (your code here)\n",
        "\n",
        "\n",
        "\n",
        "else:\n",
        "  (your code here)"
      ],
      "metadata": {
        "id": "R9rS5XPWjuYj"
      }
    },
    {
      "cell_type": "code",
      "source": [
        "# Voting Eligibility Checker\n",
        "\n",
        "# Step 1: Ask the user to enter their age\n",
        "age = int(input(\"What is your curent age? \"))\n",
        "\n",
        "# Tell them a specific statement based off that age\n",
        "#Step 2.1\n",
        "# If the age is 18 or older, print that the user can vote\n",
        "#Step 2.2\n",
        "#Elif the user will be 18 in two years, tell them they can vote in two years\n",
        "#Step 2.3\n",
        "#If they aren't,\n",
        "#print that the user cannot vote yet\n",
        "\n",
        "time_to_vote = 18 - age\n",
        "\n",
        "if age >= 18:\n",
        "        print(\"Congrats! You are eligible to vote!\")\n",
        "elif age < 18:\n",
        "        print(f\"You will be eligible to vote in {time_to_vote} years!\")\n",
        "else:\n",
        "        print(\"You are not eligible to vote yet.\")\n"
      ],
      "metadata": {
        "colab": {
          "base_uri": "https://localhost:8080/"
        },
        "id": "PkEf0qCwjxtF",
        "outputId": "f869664e-37cb-486f-90d6-8b4a7115a9fb"
      },
      "execution_count": null,
      "outputs": [
        {
          "output_type": "stream",
          "name": "stdout",
          "text": [
            "What is your curent age? 1\n",
            "You will be eligible to vote in 17 years!\n"
          ]
        }
      ]
    },
    {
      "cell_type": "code",
      "source": [
        "# The computer came up with a secret_number\n",
        "#The computer gave us a range\n",
        "# The user gave a guess as an integer\n",
        "# Computer checks IF it is the number\n",
        "# If number === computer number TRUE, YES\n",
        "#     the computer stopped the game\n",
        "# IF Not (!) than false\n",
        "#   The computer gave hints (lower than or higher than)\n",
        "#   it goes back to line #2, asking the user\n",
        "\n",
        "secret_number = 35\n",
        "\n",
        "user_guess = int(input(\"Give a number, between 10-39: \"))\n",
        "\n",
        "while user_guess != secret_number:\n",
        "  if user_guess < secret_number:\n",
        "    print(\"You guessed too low\")\n",
        "  elif user_guess > secret_number:\n",
        "    print('you guessed too high')\n",
        "\n",
        "  user_guess = int(input(\"Give a number, between 10-39: \"))\n",
        "\n",
        "if user_guess == secret_number:\n",
        "  print('You guessed it! good job')"
      ],
      "metadata": {
        "id": "DOP9T9j-rxVA"
      },
      "execution_count": null,
      "outputs": []
    },
    {
      "cell_type": "code",
      "source": [
        "def my_greeting():\n",
        "  print(\"Hey, what's up?\")\n",
        "\n",
        "def greet_name(name):\n",
        "  print(f\"Hello, {name}\")\n",
        "  my_greeting()\n",
        "\n",
        "greet_name(input(\"What is your name?\"))\n"
      ],
      "metadata": {
        "colab": {
          "base_uri": "https://localhost:8080/"
        },
        "id": "PH3Jw4ustqmF",
        "outputId": "4121cb04-91e1-49a1-fa28-2873f769e598"
      },
      "execution_count": 17,
      "outputs": [
        {
          "output_type": "stream",
          "name": "stdout",
          "text": [
            "What is your name?bib\n",
            "Hello, bib\n",
            "Hey, what's up?\n"
          ]
        }
      ]
    }
  ]
}