{
  "nbformat": 4,
  "nbformat_minor": 0,
  "metadata": {
    "colab": {
      "provenance": [],
      "authorship_tag": "ABX9TyNSl0/6pyTs3teXtbtnezzK",
      "include_colab_link": true
    },
    "kernelspec": {
      "name": "python3",
      "display_name": "Python 3"
    },
    "language_info": {
      "name": "python"
    }
  },
  "cells": [
    {
      "cell_type": "markdown",
      "metadata": {
        "id": "view-in-github",
        "colab_type": "text"
      },
      "source": [
        "<a href=\"https://colab.research.google.com/github/elliott-e-sisk/HackTheHoodHustle/blob/main/Tina_Example.ipynb\" target=\"_parent\"><img src=\"https://colab.research.google.com/assets/colab-badge.svg\" alt=\"Open In Colab\"/></a>"
      ]
    },
    {
      "cell_type": "code",
      "execution_count": 1,
      "metadata": {
        "id": "IUoK5R7ebcUz"
      },
      "outputs": [],
      "source": [
        "#record of tiger team class using tina the turtle https://hourofpython.trinket.io/a-visual-introduction-to-python#/turtles/color\n",
        "import turtle\n",
        "tina = turtle.Turtle()\n",
        "tina.shape('turtle')\n",
        "\n",
        "tina.left(90)\n",
        "tina.forward(20)\n",
        "tina.write(\"What color am I now?\")\n",
        "\n",
        "tina.forward(20)\n",
        "tina.color(\"blue\")\n",
        "tina.write(\"What color am I now?\")\n",
        "\n",
        "tina.forward(20)\n",
        "tina.color(\"purple\")\n",
        "tina.write(\"What color am I now?\")\n",
        "\n",
        "tina.forward(20)\n",
        "tina.color(\"green\")\n",
        "tina.write(\"What color am I now?\")\n",
        "\n",
        "tina.forward(20)\n",
        "tina.color('orange')\n",
        "tina.write('What color am I now?')\n",
        "\n",
        "tina.right(180)\n",
        "tina.forward(100)\n",
        "tina.write('    Where am I?')\n"
      ]
    }
  ]
}