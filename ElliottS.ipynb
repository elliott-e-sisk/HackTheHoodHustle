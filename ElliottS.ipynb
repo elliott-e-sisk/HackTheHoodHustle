{
  "nbformat": 4,
  "nbformat_minor": 0,
  "metadata": {
    "colab": {
      "provenance": [],
      "authorship_tag": "ABX9TyPqswvOZttKruwPJhALGJ8N",
      "include_colab_link": true
    },
    "kernelspec": {
      "name": "python3",
      "display_name": "Python 3"
    },
    "language_info": {
      "name": "python"
    }
  },
  "cells": [
    {
      "cell_type": "markdown",
      "metadata": {
        "id": "view-in-github",
        "colab_type": "text"
      },
      "source": [
        "<a href=\"https://colab.research.google.com/github/elliott-e-sisk/HackTheHoodHustle/blob/main/ElliottS.ipynb\" target=\"_parent\"><img src=\"https://colab.research.google.com/assets/colab-badge.svg\" alt=\"Open In Colab\"/></a>"
      ]
    },
    {
      "cell_type": "code",
      "execution_count": null,
      "metadata": {
        "id": "qUmQ0xkOV8Yz"
      },
      "outputs": [],
      "source": [
        "# Pseudo code\n",
        "\n",
        "# This file will be review, data types, lists, conditionals, loops"
      ]
    },
    {
      "cell_type": "markdown",
      "source": [
        "# Prints"
      ],
      "metadata": {
        "id": "SpT589aGXaPV"
      }
    },
    {
      "cell_type": "code",
      "source": [
        "# Make an integer variable and print it\n",
        "age= 8\n",
        "print(age)\n",
        "\n",
        " # Make a string variable and print it\n",
        "name= \"Elliott\"\n",
        "print(name)\n",
        "\n",
        " # Make a two different boolean variables and print them\n",
        "yes= True\n",
        "no= False\n",
        "print(yes)\n",
        "print(no)\n",
        "\n",
        " # Make a float variable and print it\n",
        "lbs_of_fruit= 3.7\n",
        "print(lbs_of_fruit)\n",
        "\n",
        "# Add two integers and print it\n",
        "cars= 6\n",
        "motorcycles= 3\n",
        "print(cars+motorcycles)\n",
        "\n",
        "# Subtract two floats and print it\n",
        "fruit_gone= 3.7-1.5\n",
        "print(fruit_gone)\n",
        "\n",
        "# Put two strings together\n",
        "thing1= \"Really\"\n",
        "thing2= \"cool\"\n",
        "print(thing1+' '+thing2) #concatenating\n",
        "\n"
      ],
      "metadata": {
        "colab": {
          "base_uri": "https://localhost:8080/"
        },
        "collapsed": true,
        "id": "GlLMB9awXdch",
        "outputId": "9cecc7cf-d5ad-4421-8259-f0ee7ef6c5ed"
      },
      "execution_count": 5,
      "outputs": [
        {
          "output_type": "stream",
          "name": "stdout",
          "text": [
            "8\n",
            "Elliott\n",
            "True\n",
            "False\n",
            "3.7\n",
            "9\n",
            "2.2\n",
            "Really cool\n"
          ]
        }
      ]
    },
    {
      "cell_type": "markdown",
      "source": [
        "# Lists"
      ],
      "metadata": {
        "id": "uWAOqcSHcBie"
      }
    },
    {
      "cell_type": "code",
      "source": [
        "# 1. Create a list and then print it, making sure to give it a descriptive variable name:\n",
        "things_in_room= ['fan', 'vape', 'water']\n",
        "print(things_in_room)\n",
        "\n",
        "# 2. Index practice with this list\n",
        "my_colors = ['green', 'blue', 'pink', 'acquamarine']\n",
        "\n",
        "# 2a. Print the third color through indexing\n",
        "print(my_colors[2])\n",
        "\n",
        "# 2b. Print the last color through indexing\n",
        "print(my_colors[3])\n",
        "print(my_colors[-1])\n",
        "\n",
        "# 2c. Print the first three colors through indexing\n",
        "print(my_colors[0:3]) #slicing\n",
        "\n",
        "# 2d. Set up the print statement so the output is: green  pink blue\n",
        "print(my_colors[0],my_colors[2],my_colors[1])\n"
      ],
      "metadata": {
        "colab": {
          "base_uri": "https://localhost:8080/"
        },
        "id": "4Crc7ikFcGH0",
        "outputId": "033afcbd-08b3-4eb9-fdc0-625c0828605f"
      },
      "execution_count": 14,
      "outputs": [
        {
          "output_type": "stream",
          "name": "stdout",
          "text": [
            "['fan', 'vape', 'water']\n",
            "pink\n",
            "acquamarine\n",
            "acquamarine\n",
            "['green', 'blue', 'pink']\n",
            "green pink blue\n"
          ]
        }
      ]
    },
    {
      "cell_type": "markdown",
      "source": [
        "# Conditionals"
      ],
      "metadata": {
        "id": "Mn9bhwEnf8rG"
      }
    },
    {
      "cell_type": "code",
      "source": [
        "# Step 1: Simple if statment with arithmetic operators\n",
        "# Step 2: Write an else statement if they are under 18\n",
        "# Step 3: add an elif statement to check if they are going to be 18 in four years\n",
        "\n",
        "age = int(input('how old are you '))\n",
        "check_age = age +4\n",
        "\n",
        "\n",
        "if age >= 18:\n",
        "  print(\"You can vote\")\n",
        "\n",
        "elif check_age >= 18:\n",
        "  print(\"You can vote next time\")\n",
        "\n",
        "else:\n",
        "  print(\"sorry you can't vote yet\")"
      ],
      "metadata": {
        "id": "nqSRHmGOkfzt"
      },
      "execution_count": null,
      "outputs": []
    },
    {
      "cell_type": "markdown",
      "source": [
        "# Loops"
      ],
      "metadata": {
        "id": "LnbpvngLnPCH"
      }
    },
    {
      "cell_type": "code",
      "source": [
        "# While loops\n",
        "\n",
        "current_hr = 0\n",
        "\n",
        "while current_hr < 24:\n",
        "  print(f\"The current hour is {current_hr} o'clock\")\n",
        "  current_hr += 1"
      ],
      "metadata": {
        "id": "G9d-1gL9nTlh"
      },
      "execution_count": null,
      "outputs": []
    },
    {
      "cell_type": "code",
      "source": [
        "# For loops\n",
        "\n",
        "zoo = ['elephant', 'giraffe', 'hippo', 'lion']\n",
        "\n",
        "zoo_size = len(zoo)\n",
        "\n",
        "# print(zoo_size)\n",
        "# print(range(zoo_size))\n",
        "\n",
        "for zoo_spot_num in range(zoo_size):\n",
        "  # print(zoo_spot_num)\n",
        "  # print(zoo[zoo_spot_num])\n",
        "  print(f\"Welcome to space # {zoo_spot_num + 1}! Here, we have {zoo[zoo_spot_num]}\")"
      ],
      "metadata": {
        "id": "k9mLykQGrCxS"
      },
      "execution_count": null,
      "outputs": []
    }
  ]
}