{
  "nbformat": 4,
  "nbformat_minor": 0,
  "metadata": {
    "colab": {
      "provenance": [],
      "authorship_tag": "ABX9TyPoof4IMje0pXScitPym6lm",
      "include_colab_link": true
    },
    "kernelspec": {
      "name": "python3",
      "display_name": "Python 3"
    },
    "language_info": {
      "name": "python"
    }
  },
  "cells": [
    {
      "cell_type": "markdown",
      "metadata": {
        "id": "view-in-github",
        "colab_type": "text"
      },
      "source": [
        "<a href=\"https://colab.research.google.com/github/elliott-e-sisk/HackTheHoodHustle/blob/main/july_11_loops_with_Genghis.ipynb\" target=\"_parent\"><img src=\"https://colab.research.google.com/assets/colab-badge.svg\" alt=\"Open In Colab\"/></a>"
      ]
    },
    {
      "cell_type": "code",
      "execution_count": null,
      "metadata": {
        "id": "p7uTCDWjPdoq"
      },
      "outputs": [],
      "source": [
        "x = [1, 2, 3, 4, 5]\n",
        "# In this line I am defining a variable `x` and I am assigning a list of number from 1 to 5\n",
        "for anything_else in x:\n",
        "    # In this line I am defining a `for` loop with an iterator of `anything_else` to iterate through my variable `x` which contains a list from 1 to 5\n",
        "    print ('Hello World')\n",
        "    # In this line I am printing `Hello world`"
      ]
    },
    {
      "cell_type": "code",
      "source": [
        "number = int(input('Enter a number: '))\n",
        "# In this line I am declaring a variable `number` and I am assigning to the variable the `input()` function\n",
        "# The input() will ask the user to enter a number.\n",
        "# As I remember, the input() function takes in a string value.  Therefore, I need to convert that string value into an integer with the int()!\n",
        "count = 1\n",
        "# In this line I am declaring a varible `count`\n",
        "while count <= 10:\n",
        "    # In this line I am defining the while loop to iterate all numbers from 1 to or equal to 10\n",
        "    product = number * count\n",
        "    # In this line I am defining a variable `product` and I am assigning the multiplication of the number and the count\n",
        "    print(f'The number {number} multiplied by the number {count} = {product}')\n",
        "    # In this line I am printing the multiplication of the number and the count\n",
        "\n",
        "    count += 1\n",
        "    # in this line I am increasing the variable `count` by '1' after every iteration."
      ],
      "metadata": {
        "id": "7rLcYLacPrsP"
      },
      "execution_count": null,
      "outputs": []
    }
  ]
}